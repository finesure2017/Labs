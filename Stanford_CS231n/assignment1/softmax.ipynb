{
 "cells": [
  {
   "cell_type": "markdown",
   "metadata": {},
   "source": [
    "# Softmax exercise\n",
    "\n",
    "*Complete and hand in this completed worksheet (including its outputs and any supporting code outside of the worksheet) with your assignment submission. For more details see the [assignments page](http://vision.stanford.edu/teaching/cs231n/assignments.html) on the course website.*\n",
    "\n",
    "This exercise is analogous to the SVM exercise. You will:\n",
    "\n",
    "- implement a fully-vectorized **loss function** for the Softmax classifier\n",
    "- implement the fully-vectorized expression for its **analytic gradient**\n",
    "- **check your implementation** with numerical gradient\n",
    "- use a validation set to **tune the learning rate and regularization** strength\n",
    "- **optimize** the loss function with **SGD**\n",
    "- **visualize** the final learned weights\n"
   ]
  },
  {
   "cell_type": "code",
   "execution_count": 1,
   "metadata": {
    "collapsed": true
   },
   "outputs": [],
   "source": [
    "import random\n",
    "import numpy as np\n",
    "from cs231n.data_utils import load_CIFAR10\n",
    "import matplotlib.pyplot as plt\n",
    "\n",
    "from __future__ import print_function\n",
    "\n",
    "%matplotlib inline\n",
    "plt.rcParams['figure.figsize'] = (10.0, 8.0) # set default size of plots\n",
    "plt.rcParams['image.interpolation'] = 'nearest'\n",
    "plt.rcParams['image.cmap'] = 'gray'\n",
    "\n",
    "# for auto-reloading extenrnal modules\n",
    "# see http://stackoverflow.com/questions/1907993/autoreload-of-modules-in-ipython\n",
    "%load_ext autoreload\n",
    "%autoreload 2"
   ]
  },
  {
   "cell_type": "code",
   "execution_count": 2,
   "metadata": {},
   "outputs": [
    {
     "name": "stdout",
     "output_type": "stream",
     "text": [
      "Train data shape:  (49000, 3073)\n",
      "Train labels shape:  (49000,)\n",
      "Validation data shape:  (1000, 3073)\n",
      "Validation labels shape:  (1000,)\n",
      "Test data shape:  (1000, 3073)\n",
      "Test labels shape:  (1000,)\n",
      "dev data shape:  (500, 3073)\n",
      "dev labels shape:  (500,)\n"
     ]
    }
   ],
   "source": [
    "def get_CIFAR10_data(num_training=49000, num_validation=1000, num_test=1000, num_dev=500):\n",
    "    \"\"\"\n",
    "    Load the CIFAR-10 dataset from disk and perform preprocessing to prepare\n",
    "    it for the linear classifier. These are the same steps as we used for the\n",
    "    SVM, but condensed to a single function.  \n",
    "    \"\"\"\n",
    "    # Load the raw CIFAR-10 data\n",
    "    cifar10_dir = 'cs231n/datasets/cifar-10-batches-py'\n",
    "    X_train, y_train, X_test, y_test = load_CIFAR10(cifar10_dir)\n",
    "    \n",
    "    # subsample the data\n",
    "    mask = list(range(num_training, num_training + num_validation))\n",
    "    X_val = X_train[mask]\n",
    "    y_val = y_train[mask]\n",
    "    mask = list(range(num_training))\n",
    "    X_train = X_train[mask]\n",
    "    y_train = y_train[mask]\n",
    "    mask = list(range(num_test))\n",
    "    X_test = X_test[mask]\n",
    "    y_test = y_test[mask]\n",
    "    mask = np.random.choice(num_training, num_dev, replace=False)\n",
    "    X_dev = X_train[mask]\n",
    "    y_dev = y_train[mask]\n",
    "    \n",
    "    # Preprocessing: reshape the image data into rows\n",
    "    X_train = np.reshape(X_train, (X_train.shape[0], -1))\n",
    "    X_val = np.reshape(X_val, (X_val.shape[0], -1))\n",
    "    X_test = np.reshape(X_test, (X_test.shape[0], -1))\n",
    "    X_dev = np.reshape(X_dev, (X_dev.shape[0], -1))\n",
    "    \n",
    "    # Normalize the data: subtract the mean image\n",
    "    mean_image = np.mean(X_train, axis = 0)\n",
    "    X_train -= mean_image\n",
    "    X_val -= mean_image\n",
    "    X_test -= mean_image\n",
    "    X_dev -= mean_image\n",
    "    \n",
    "    # add bias dimension and transform into columns\n",
    "    X_train = np.hstack([X_train, np.ones((X_train.shape[0], 1))])\n",
    "    X_val = np.hstack([X_val, np.ones((X_val.shape[0], 1))])\n",
    "    X_test = np.hstack([X_test, np.ones((X_test.shape[0], 1))])\n",
    "    X_dev = np.hstack([X_dev, np.ones((X_dev.shape[0], 1))])\n",
    "    \n",
    "    return X_train, y_train, X_val, y_val, X_test, y_test, X_dev, y_dev\n",
    "\n",
    "\n",
    "# Invoke the above function to get our data.\n",
    "X_train, y_train, X_val, y_val, X_test, y_test, X_dev, y_dev = get_CIFAR10_data()\n",
    "print('Train data shape: ', X_train.shape)\n",
    "print('Train labels shape: ', y_train.shape)\n",
    "print('Validation data shape: ', X_val.shape)\n",
    "print('Validation labels shape: ', y_val.shape)\n",
    "print('Test data shape: ', X_test.shape)\n",
    "print('Test labels shape: ', y_test.shape)\n",
    "print('dev data shape: ', X_dev.shape)\n",
    "print('dev labels shape: ', y_dev.shape)"
   ]
  },
  {
   "cell_type": "markdown",
   "metadata": {},
   "source": [
    "## Softmax Classifier\n",
    "\n",
    "Your code for this section will all be written inside **cs231n/classifiers/softmax.py**. \n"
   ]
  },
  {
   "cell_type": "code",
   "execution_count": 4,
   "metadata": {},
   "outputs": [
    {
     "name": "stdout",
     "output_type": "stream",
     "text": [
      "loss: 2.299791\n",
      "sanity check: 2.302585\n"
     ]
    }
   ],
   "source": [
    "# First implement the naive softmax loss function with nested loops.\n",
    "# Open the file cs231n/classifiers/softmax.py and implement the\n",
    "# softmax_loss_naive function.\n",
    "\n",
    "from cs231n.classifiers.softmax import softmax_loss_naive\n",
    "import time\n",
    "\n",
    "# Generate a random softmax weight matrix and use it to compute the loss.\n",
    "W = np.random.randn(3073, 10) * 0.0001\n",
    "\n",
    "loss, grad = softmax_loss_naive(W, X_dev, y_dev, 0.0)\n",
    "\n",
    "# As a rough sanity check, our loss should be something close to -log(0.1).\n",
    "print('loss: %f' % loss)\n",
    "print('sanity check: %f' % (-np.log(0.1)))"
   ]
  },
  {
   "cell_type": "markdown",
   "metadata": {},
   "source": [
    "## Inline Question 1:\n",
    "Why do we expect our loss to be close to -log(0.1)? Explain briefly.**\n",
    "\n",
    "Since 10 classes, initially, probability of every class should be equal. So, each class has probability of 1/10 of occuring. Therefore, initial loss should be -log(1/10). Note: The loss averages over the training samples "
   ]
  },
  {
   "cell_type": "code",
   "execution_count": 14,
   "metadata": {},
   "outputs": [
    {
     "name": "stdout",
     "output_type": "stream",
     "text": [
      "numerical: -1.143410 analytic: -1.143410, relative error: 1.078381e-08\n",
      "numerical: 0.766008 analytic: 0.766008, relative error: 1.206343e-08\n",
      "numerical: 0.224836 analytic: 0.224836, relative error: 4.100542e-09\n",
      "numerical: 2.032334 analytic: 2.032334, relative error: 5.496013e-08\n",
      "numerical: 4.059960 analytic: 4.059960, relative error: 1.447441e-08\n",
      "numerical: 2.724947 analytic: 2.724947, relative error: 1.514383e-10\n",
      "numerical: 0.265328 analytic: 0.265328, relative error: 1.946727e-07\n",
      "numerical: -2.687363 analytic: -2.687363, relative error: 2.099211e-08\n",
      "numerical: -3.317523 analytic: -3.317523, relative error: 5.557575e-09\n",
      "numerical: 1.097248 analytic: 1.097248, relative error: 2.870858e-08\n",
      "numerical: -1.402381 analytic: -1.402381, relative error: 6.087936e-10\n",
      "numerical: 1.721430 analytic: 1.721430, relative error: 3.981822e-08\n",
      "numerical: -0.332129 analytic: -0.332129, relative error: 1.559672e-08\n",
      "numerical: -0.892959 analytic: -0.892959, relative error: 1.182625e-07\n",
      "numerical: -2.224657 analytic: -2.224657, relative error: 1.685670e-08\n",
      "numerical: 1.318883 analytic: 1.318883, relative error: 1.322383e-08\n",
      "numerical: -2.928453 analytic: -2.928453, relative error: 1.112182e-08\n",
      "numerical: 0.954387 analytic: 0.954387, relative error: 6.229730e-09\n",
      "numerical: 0.513240 analytic: 0.513240, relative error: 7.149962e-09\n",
      "numerical: 0.412754 analytic: 0.412754, relative error: 6.696434e-09\n"
     ]
    }
   ],
   "source": [
    "# Complete the implementation of softmax_loss_naive and implement a (naive)\n",
    "# version of the gradient that uses nested loops.\n",
    "loss, grad = softmax_loss_naive(W, X_dev, y_dev, 0.0)\n",
    "\n",
    "# As we did for the SVM, use numeric gradient checking as a debugging tool.\n",
    "# The numeric gradient should be close to the analytic gradient.\n",
    "from cs231n.gradient_check import grad_check_sparse\n",
    "f = lambda w: softmax_loss_naive(w, X_dev, y_dev, 0.0)[0]\n",
    "grad_numerical = grad_check_sparse(f, W, grad, 10)\n",
    "\n",
    "# similar to SVM case, do another gradient check with regularization\n",
    "loss, grad = softmax_loss_naive(W, X_dev, y_dev, 5e1)\n",
    "f = lambda w: softmax_loss_naive(w, X_dev, y_dev, 5e1)[0]\n",
    "grad_numerical = grad_check_sparse(f, W, grad, 10)"
   ]
  },
  {
   "cell_type": "code",
   "execution_count": 19,
   "metadata": {},
   "outputs": [
    {
     "name": "stdout",
     "output_type": "stream",
     "text": [
      "naive loss: 2.299791e+00 computed in 0.231191s\n",
      "vectorized loss: 2.299791e+00 computed in 0.020156s\n",
      "Loss difference: 0.000000\n",
      "Gradient difference: 0.000000\n"
     ]
    }
   ],
   "source": [
    "# Now that we have a naive implementation of the softmax loss function and its gradient,\n",
    "# implement a vectorized version in softmax_loss_vectorized.\n",
    "# The two versions should compute the same results, but the vectorized version should be\n",
    "# much faster.\n",
    "tic = time.time()\n",
    "loss_naive, grad_naive = softmax_loss_naive(W, X_dev, y_dev, 0.000005)\n",
    "toc = time.time()\n",
    "print('naive loss: %e computed in %fs' % (loss_naive, toc - tic))\n",
    "\n",
    "from cs231n.classifiers.softmax import softmax_loss_vectorized\n",
    "tic = time.time()\n",
    "loss_vectorized, grad_vectorized = softmax_loss_vectorized(W, X_dev, y_dev, 0.000005)\n",
    "toc = time.time()\n",
    "print('vectorized loss: %e computed in %fs' % (loss_vectorized, toc - tic))\n",
    "\n",
    "# As we did for the SVM, we use the Frobenius norm to compare the two versions\n",
    "# of the gradient.\n",
    "grad_difference = np.linalg.norm(grad_naive - grad_vectorized, ord='fro')\n",
    "print('Loss difference: %f' % np.abs(loss_naive - loss_vectorized))\n",
    "print('Gradient difference: %f' % grad_difference)"
   ]
  },
  {
   "cell_type": "code",
   "execution_count": 21,
   "metadata": {},
   "outputs": [
    {
     "name": "stdout",
     "output_type": "stream",
     "text": [
      "1e-07  :  25000.0\n",
      "iteration 0 / 1500: loss 777.695813\n",
      "iteration 100 / 1500: loss 285.703021\n",
      "iteration 200 / 1500: loss 105.718867\n",
      "iteration 300 / 1500: loss 39.977157\n",
      "iteration 400 / 1500: loss 15.922970\n",
      "iteration 500 / 1500: loss 7.097105\n",
      "iteration 600 / 1500: loss 3.941021\n",
      "iteration 700 / 1500: loss 2.762745\n",
      "iteration 800 / 1500: loss 2.348515\n",
      "iteration 900 / 1500: loss 2.178367\n",
      "iteration 1000 / 1500: loss 2.103794\n",
      "iteration 1100 / 1500: loss 2.070498\n",
      "iteration 1200 / 1500: loss 2.118012\n",
      "iteration 1300 / 1500: loss 2.057218\n",
      "iteration 1400 / 1500: loss 2.156049\n",
      "1e-07  :  50000.0\n",
      "iteration 0 / 1500: loss 1542.278727\n",
      "iteration 100 / 1500: loss 207.722945\n",
      "iteration 200 / 1500: loss 29.606029\n",
      "iteration 300 / 1500: loss 5.816822\n",
      "iteration 400 / 1500: loss 2.629753\n",
      "iteration 500 / 1500: loss 2.204051\n",
      "iteration 600 / 1500: loss 2.174047\n",
      "iteration 700 / 1500: loss 2.109264\n",
      "iteration 800 / 1500: loss 2.144796\n",
      "iteration 900 / 1500: loss 2.132272\n",
      "iteration 1000 / 1500: loss 2.127326\n",
      "iteration 1100 / 1500: loss 2.211653\n",
      "iteration 1200 / 1500: loss 2.138895\n",
      "iteration 1300 / 1500: loss 2.167496\n",
      "iteration 1400 / 1500: loss 2.151716\n",
      "5e-07  :  25000.0\n",
      "iteration 0 / 1500: loss 769.859871\n",
      "iteration 100 / 1500: loss 6.854756\n",
      "iteration 200 / 1500: loss 2.120467\n",
      "iteration 300 / 1500: loss 2.106037\n",
      "iteration 400 / 1500: loss 2.053259\n",
      "iteration 500 / 1500: loss 2.092134\n",
      "iteration 600 / 1500: loss 2.086162\n",
      "iteration 700 / 1500: loss 2.060102\n",
      "iteration 800 / 1500: loss 2.095863\n",
      "iteration 900 / 1500: loss 2.061343\n",
      "iteration 1000 / 1500: loss 2.148045\n",
      "iteration 1100 / 1500: loss 2.119960\n",
      "iteration 1200 / 1500: loss 2.092226\n",
      "iteration 1300 / 1500: loss 2.130256\n",
      "iteration 1400 / 1500: loss 2.004291\n",
      "5e-07  :  50000.0\n",
      "iteration 0 / 1500: loss 1536.490779\n",
      "iteration 100 / 1500: loss 2.192837\n",
      "iteration 200 / 1500: loss 2.126354\n",
      "iteration 300 / 1500: loss 2.112003\n",
      "iteration 400 / 1500: loss 2.149719\n",
      "iteration 500 / 1500: loss 2.138399\n",
      "iteration 600 / 1500: loss 2.111690\n",
      "iteration 700 / 1500: loss 2.122622\n",
      "iteration 800 / 1500: loss 2.178762\n",
      "iteration 900 / 1500: loss 2.117303\n",
      "iteration 1000 / 1500: loss 2.163662\n",
      "iteration 1100 / 1500: loss 2.169909\n",
      "iteration 1200 / 1500: loss 2.176947\n",
      "iteration 1300 / 1500: loss 2.133679\n",
      "iteration 1400 / 1500: loss 2.125751\n",
      "lr 1.000000e-07 reg 2.500000e+04 train accuracy: 0.329265 val accuracy: 0.346000\n",
      "lr 1.000000e-07 reg 5.000000e+04 train accuracy: 0.309367 val accuracy: 0.329000\n",
      "lr 5.000000e-07 reg 2.500000e+04 train accuracy: 0.335449 val accuracy: 0.351000\n",
      "lr 5.000000e-07 reg 5.000000e+04 train accuracy: 0.287673 val accuracy: 0.315000\n",
      "best validation accuracy achieved during cross-validation: 0.351000\n"
     ]
    }
   ],
   "source": [
    "# Use the validation set to tune hyperparameters (regularization strength and\n",
    "# learning rate). You should experiment with different ranges for the learning\n",
    "# rates and regularization strengths; if you are careful you should be able to\n",
    "# get a classification accuracy of over 0.35 on the validation set.\n",
    "\n",
    "results = {}\n",
    "best_val = -1\n",
    "best_softmax = None\n",
    "learning_rates = [1e-7, 5e-7]\n",
    "regularization_strengths = [2.5e4, 5e4]\n",
    "\n",
    "################################################################################\n",
    "# Use the validation set to set the learning rate and regularization strength. #\n",
    "# This should be identical to the validation that you did for the SVM; save    #\n",
    "# the best trained softmax classifer in best_softmax.                          #\n",
    "################################################################################\n",
    "from cs231n.classifiers.linear_classifier import Softmax\n",
    "\n",
    "for learningRate in learning_rates:\n",
    "    for regularization in regularization_strengths:\n",
    "        soft = Softmax()\n",
    "        print(learningRate, \" : \", regularization)\n",
    "        soft.train(X_train, y_train, learning_rate=learningRate, reg=regularization,\n",
    "                  num_iters=1500, verbose=True)\n",
    "        y_train_pred = soft.predict(X_train)\n",
    "        trainAcc = np.mean(y_train == y_train_pred)\n",
    "        y_val_pred = soft.predict(X_val)\n",
    "        valAcc = np.mean(y_val == y_val_pred)\n",
    "        if best_val < valAcc:\n",
    "            best_softmax = soft\n",
    "            best_val = valAcc\n",
    "        best_val = max(best_val, valAcc)\n",
    "        results[(learningRate, regularization)] = (trainAcc, valAcc)\n",
    "################################################################################\n",
    "#                              END OF YOUR CODE                                #\n",
    "################################################################################\n",
    "    \n",
    "# Print out results.\n",
    "for lr, reg in sorted(results):\n",
    "    train_accuracy, val_accuracy = results[(lr, reg)]\n",
    "    print('lr %e reg %e train accuracy: %f val accuracy: %f' % (\n",
    "                lr, reg, train_accuracy, val_accuracy))\n",
    "    \n",
    "print('best validation accuracy achieved during cross-validation: %f' % best_val)"
   ]
  },
  {
   "cell_type": "code",
   "execution_count": 22,
   "metadata": {},
   "outputs": [
    {
     "name": "stdout",
     "output_type": "stream",
     "text": [
      "softmax on raw pixels final test set accuracy: 0.348000\n"
     ]
    }
   ],
   "source": [
    "# evaluate on test set\n",
    "# Evaluate the best softmax on test set\n",
    "y_test_pred = best_softmax.predict(X_test)\n",
    "test_accuracy = np.mean(y_test == y_test_pred)\n",
    "print('softmax on raw pixels final test set accuracy: %f' % (test_accuracy, ))"
   ]
  },
  {
   "cell_type": "code",
   "execution_count": 23,
   "metadata": {},
   "outputs": [
    {
     "data": {
      "image/png": "[encoded data removed]",
      "text/plain": [
       "<matplotlib.figure.Figure at 0x7f1784817a90>"
      ]
     },
     "metadata": {},
     "output_type": "display_data"
    }
   ],
   "source": [
    "# Visualize the learned weights for each class\n",
    "w = best_softmax.W[:-1,:] # strip out the bias, adding it is useless as will normalize below anyway\n",
    "w = w.reshape(32, 32, 3, 10)\n",
    "\n",
    "w_min, w_max = np.min(w), np.max(w)\n",
    "\n",
    "classes = ['plane', 'car', 'bird', 'cat', 'deer', 'dog', 'frog', 'horse', 'ship', 'truck']\n",
    "for i in range(10):\n",
    "    plt.subplot(2, 5, i + 1)\n",
    "    \n",
    "    # Rescale the weights to be between 0 and 255\n",
    "    wimg = 255.0 * (w[:, :, :, i].squeeze() - w_min) / (w_max - w_min)\n",
    "    plt.imshow(wimg.astype('uint8'))\n",
    "    plt.axis('off')\n",
    "    plt.title(classes[i])"
   ]
  }
 ],
 "metadata": {
  "kernelspec": {
   "display_name": "Python 2",
   "language": "python",
   "name": "python2"
  },
  "language_info": {
   "codemirror_mode": {
    "name": "ipython",
    "version": 3
   },
   "file_extension": ".py",
   "mimetype": "text/x-python",
   "name": "python",
   "nbconvert_exporter": "python",
   "pygments_lexer": "ipython3",
   "version": "3.6.3"
  }
 },
 "nbformat": 4,
 "nbformat_minor": 1
}
